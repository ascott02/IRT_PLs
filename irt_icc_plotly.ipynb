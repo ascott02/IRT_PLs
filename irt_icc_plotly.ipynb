{
 "cells": [
  {
   "cell_type": "markdown",
   "id": "ecbde636",
   "metadata": {},
   "source": [
    "# Interactive IRT ICC Visualizer\n",
    "\n",
    "This notebook provides interactive visualizations for Item Characteristic Curves (ICC) of 1PL, 2PL, 3PL, and 4PL models using Plotly and ipywidgets. Adjust sliders to explore how parameters shape the probability of a correct response, and watch the dot move along the curve at the chosen ability level θ.\n",
    "\n",
    "**Features:**\n",
    "- Real-time updates with sliders for model parameters.\n",
    "- Separate plots for each model.\n",
    "- Live-updating vertical θ line and marker dot.\n",
    "- Compact and responsive layout.\n",
    "\n",
    "**Models:**\n",
    "- **1PL (Rasch):** $P(\\theta)=\\sigma(\\theta-b)$\n",
    "- **2PL:** $P(\\theta)=\\sigma(a(\\theta-b))$\n",
    "- **3PL:** $P(\\theta)=c + (1-c)\\,\\sigma(a(\\theta-b))$\n",
    "- **4PL:** $P(\\theta)=c + (d-c)\\,\\sigma(a(\\theta-b))$\n",
    "\n",
    "where $\\sigma(x)=1/(1+e^{-x})$."
   ]
  },
  {
   "cell_type": "code",
   "execution_count": null,
   "id": "957f98c5",
   "metadata": {},
   "outputs": [],
   "source": [
    "!pip install plotly ipywidgets numpy"
   ]
  },
  {
   "cell_type": "code",
   "execution_count": 9,
   "id": "5c66132b",
   "metadata": {},
   "outputs": [],
   "source": [
    "import numpy as np\n",
    "import plotly.graph_objects as go\n",
    "from ipywidgets import VBox, HBox, FloatSlider, HTML"
   ]
  },
  {
   "cell_type": "code",
   "execution_count": 10,
   "id": "bf50ebe9",
   "metadata": {},
   "outputs": [],
   "source": [
    "def logistic(x):\n",
    "    return 1.0 / (1.0 + np.exp(-x))\n",
    "\n",
    "def icc_1pl(theta, b):\n",
    "    return logistic(theta - b)\n",
    "\n",
    "def icc_2pl(theta, a, b):\n",
    "    return logistic(a * (theta - b))\n",
    "\n",
    "def icc_3pl(theta, a, b, c):\n",
    "    return c + (1.0 - c) * logistic(a * (theta - b))\n",
    "\n",
    "def icc_4pl(theta, a, b, c, d):\n",
    "    return c + (d - c) * logistic(a * (theta - b))"
   ]
  },
  {
   "cell_type": "code",
   "execution_count": 11,
   "id": "3bad75b1",
   "metadata": {},
   "outputs": [],
   "source": [
    "theta_grid = np.linspace(-4, 4, 400)\n",
    "\n",
    "def make_fig(title):\n",
    "    fig = go.FigureWidget(layout=dict(\n",
    "        title=title, xaxis=dict(range=[-4,4], title='Ability θ'),\n",
    "        yaxis=dict(range=[0,1], title='P(correct)'), template='plotly_white'\n",
    "    ))\n",
    "    # curve trace, marker dot, vertical theta line\n",
    "    fig.add_scatter(x=theta_grid, y=np.zeros_like(theta_grid), mode='lines', name='ICC')\n",
    "    fig.add_scatter(x=[0], y=[0], mode='markers', name='θ', marker=dict(size=10))\n",
    "    fig.add_shape(type='line', x0=0, x1=0, y0=0, y1=1, line=dict(dash='dot'))\n",
    "    return fig"
   ]
  },
  {
   "cell_type": "code",
   "execution_count": 12,
   "id": "d7c4b62d",
   "metadata": {},
   "outputs": [],
   "source": [
    "def create_1pl_widget():\n",
    "    fig = make_fig(\"1PL (Rasch)\")\n",
    "    b_slider = FloatSlider(value=0.0, min=-3.0, max=3.0, step=0.1, description=\"b (difficulty)\")\n",
    "    theta_slider = FloatSlider(value=0.0, min=-4.0, max=4.0, step=0.1, description=\"θ\")\n",
    "\n",
    "    def update_1pl(change):\n",
    "        b = b_slider.value\n",
    "        theta = theta_slider.value\n",
    "        fig.data[0].y = icc_1pl(theta_grid, b)\n",
    "        fig.data[1].x = [theta]\n",
    "        fig.data[1].y = [icc_1pl(np.array([theta]), b)[0]]\n",
    "        fig.layout.shapes[0].x0 = theta\n",
    "        fig.layout.shapes[0].x1 = theta\n",
    "\n",
    "    b_slider.observe(update_1pl, names=\"value\")\n",
    "    theta_slider.observe(update_1pl, names=\"value\")\n",
    "\n",
    "    update_1pl(None)  # Initialize plot\n",
    "\n",
    "    return VBox([fig, VBox([b_slider, theta_slider])])"
   ]
  },
  {
   "cell_type": "code",
   "execution_count": 13,
   "id": "9eaf4e2b",
   "metadata": {},
   "outputs": [],
   "source": [
    "def create_2pl_widget():\n",
    "    fig = make_fig(\"2PL\")\n",
    "    a_slider = FloatSlider(value=1.0, min=0.1, max=3.0, step=0.05, description=\"a (discrim)\")\n",
    "    b_slider = FloatSlider(value=0.0, min=-3.0, max=3.0, step=0.1, description=\"b (difficulty)\")\n",
    "    theta_slider = FloatSlider(value=0.0, min=-4.0, max=4.0, step=0.1, description=\"θ\")\n",
    "\n",
    "    def update_2pl(change):\n",
    "        a = a_slider.value\n",
    "        b = b_slider.value\n",
    "        theta = theta_slider.value\n",
    "        fig.data[0].y = icc_2pl(theta_grid, a, b)\n",
    "        fig.data[1].x = [theta]\n",
    "        fig.data[1].y = [icc_2pl(np.array([theta]), a, b)[0]]\n",
    "        fig.layout.shapes[0].x0 = theta\n",
    "        fig.layout.shapes[0].x1 = theta\n",
    "\n",
    "    a_slider.observe(update_2pl, names=\"value\")\n",
    "    b_slider.observe(update_2pl, names=\"value\")\n",
    "    theta_slider.observe(update_2pl, names=\"value\")\n",
    "\n",
    "    update_2pl(None)  # Initialize plot\n",
    "\n",
    "    return VBox([fig, VBox([a_slider, b_slider, theta_slider])])"
   ]
  },
  {
   "cell_type": "code",
   "execution_count": 14,
   "id": "c3780e9c",
   "metadata": {},
   "outputs": [],
   "source": [
    "def create_3pl_widget():\n",
    "    fig = make_fig(\"3PL\")\n",
    "    a_slider = FloatSlider(value=1.0, min=0.1, max=3.0, step=0.05, description=\"a (discrim)\")\n",
    "    b_slider = FloatSlider(value=0.0, min=-3.0, max=3.0, step=0.1, description=\"b (difficulty)\")\n",
    "    c_slider = FloatSlider(value=0.0, min=0.0, max=0.35, step=0.01, description=\"c (guess)\")\n",
    "    theta_slider = FloatSlider(value=0.0, min=-4.0, max=4.0, step=0.1, description=\"θ\")\n",
    "\n",
    "    def update_3pl(change):\n",
    "        a = a_slider.value\n",
    "        b = b_slider.value\n",
    "        c = c_slider.value\n",
    "        theta = theta_slider.value\n",
    "        fig.data[0].y = icc_3pl(theta_grid, a, b, c)\n",
    "        fig.data[1].x = [theta]\n",
    "        fig.data[1].y = [icc_3pl(np.array([theta]), a, b, c)[0]]\n",
    "        fig.layout.shapes[0].x0 = theta\n",
    "        fig.layout.shapes[0].x1 = theta\n",
    "\n",
    "    a_slider.observe(update_3pl, names=\"value\")\n",
    "    b_slider.observe(update_3pl, names=\"value\")\n",
    "    c_slider.observe(update_3pl, names=\"value\")\n",
    "    theta_slider.observe(update_3pl, names=\"value\")\n",
    "\n",
    "    update_3pl(None)  # Initialize plot\n",
    "\n",
    "    return VBox([fig, VBox([a_slider, b_slider, c_slider, theta_slider])])"
   ]
  },
  {
   "cell_type": "code",
   "execution_count": 15,
   "id": "ae58937a",
   "metadata": {},
   "outputs": [],
   "source": [
    "def create_4pl_widget():\n",
    "    fig = make_fig(\"4PL\")\n",
    "    a_slider = FloatSlider(value=1.0, min=0.1, max=3.0, step=0.05, description=\"a (discrim)\")\n",
    "    b_slider = FloatSlider(value=0.0, min=-3.0, max=3.0, step=0.1, description=\"b (difficulty)\")\n",
    "    c_slider = FloatSlider(value=0.0, min=0.0, max=0.35, step=0.01, description=\"c (guess)\")\n",
    "    d_slider = FloatSlider(value=1.0, min=0.65, max=1.0, step=0.01, description=\"d (feasibility)\")\n",
    "    theta_slider = FloatSlider(value=0.0, min=-4.0, max=4.0, step=0.1, description=\"θ\")\n",
    "\n",
    "    def update_4pl(change):\n",
    "        a = a_slider.value\n",
    "        b = b_slider.value\n",
    "        c = c_slider.value\n",
    "        d = max(d_slider.value, c + 1e-6)  # Ensure d >= c\n",
    "        theta = theta_slider.value\n",
    "        fig.data[0].y = icc_4pl(theta_grid, a, b, c, d)\n",
    "        fig.data[1].x = [theta]\n",
    "        fig.data[1].y = [icc_4pl(np.array([theta]), a, b, c, d)[0]]\n",
    "        fig.layout.shapes[0].x0 = theta\n",
    "        fig.layout.shapes[0].x1 = theta\n",
    "\n",
    "    a_slider.observe(update_4pl, names=\"value\")\n",
    "    b_slider.observe(update_4pl, names=\"value\")\n",
    "    c_slider.observe(update_4pl, names=\"value\")\n",
    "    d_slider.observe(update_4pl, names=\"value\")\n",
    "    theta_slider.observe(update_4pl, names=\"value\")\n",
    "\n",
    "    update_4pl(None)  # Initialize plot\n",
    "\n",
    "    return VBox([fig, VBox([a_slider, b_slider, c_slider, d_slider, theta_slider])])"
   ]
  },
  {
   "cell_type": "code",
   "execution_count": 16,
   "id": "b5a959b1",
   "metadata": {},
   "outputs": [
    {
     "data": {
      "application/vnd.jupyter.widget-view+json": {
       "model_id": "32ab6c732a9346db99ecf13fddac318d",
       "version_major": 2,
       "version_minor": 0
      },
      "text/plain": [
       "VBox(children=(VBox(children=(FigureWidget({\n",
       "    'data': [{'mode': 'lines',\n",
       "              'name': 'ICC',\n",
       "     …"
      ]
     },
     "execution_count": 16,
     "metadata": {},
     "output_type": "execute_result"
    }
   ],
   "source": [
    "def main():\n",
    "    widgets = VBox([\n",
    "        create_1pl_widget(),\n",
    "        create_2pl_widget(),\n",
    "        create_3pl_widget(),\n",
    "        create_4pl_widget()\n",
    "    ])\n",
    "    return widgets\n",
    "\n",
    "main()"
   ]
  }
 ],
 "metadata": {
  "kernelspec": {
   "display_name": ".venv",
   "language": "python",
   "name": "python3"
  },
  "language_info": {
   "codemirror_mode": {
    "name": "ipython",
    "version": 3
   },
   "file_extension": ".py",
   "mimetype": "text/x-python",
   "name": "python",
   "nbconvert_exporter": "python",
   "pygments_lexer": "ipython3",
   "version": "3.13.3"
  }
 },
 "nbformat": 4,
 "nbformat_minor": 5
}
